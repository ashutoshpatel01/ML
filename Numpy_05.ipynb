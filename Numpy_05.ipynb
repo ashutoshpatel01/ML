{
 "cells": [
  {
   "cell_type": "markdown",
   "metadata": {},
   "source": [
    "RANDOM GENERATOR IN NUMPY"
   ]
  },
  {
   "cell_type": "code",
   "execution_count": 2,
   "metadata": {},
   "outputs": [],
   "source": [
    "import numpy as np\n",
    "from numpy.random import Generator as gen \n",
    "from numpy.random import PCG64 as pcg"
   ]
  },
  {
   "cell_type": "code",
   "execution_count": 6,
   "metadata": {},
   "outputs": [
    {
     "data": {
      "text/plain": [
       "Generator(PCG64) at 0x7A56C7B790E0"
      ]
     },
     "execution_count": 6,
     "metadata": {},
     "output_type": "execute_result"
    }
   ],
   "source": [
    "arr_rg = gen(pcg())\n",
    "arr_rg"
   ]
  },
  {
   "cell_type": "markdown",
   "metadata": {},
   "source": [
    "we above get some values which is generator type.\n",
    "It generates a random value it depends upon which type of distribution value we need normal distribution, mean distribution , here we will use Normal distribution\n",
    "arr_rg = gen(pcg())\n",
    "arr_rg.normal(size = (5,5)) -> It will generate the matrix of 5 * 5  with random values. "
   ]
  },
  {
   "cell_type": "code",
   "execution_count": 10,
   "metadata": {},
   "outputs": [
    {
     "data": {
      "text/plain": [
       "array([[ 0.06152979, -0.14507844,  1.6509051 , -0.07940497, -0.29301609],\n",
       "       [ 1.03034187, -1.51382463,  1.17773065,  0.74949214, -0.04258849],\n",
       "       [-0.04418439,  0.91486368,  0.0369275 , -0.12384551, -0.39920681],\n",
       "       [-0.62254952, -1.72359583,  0.0637654 ,  1.88733368,  0.66274723],\n",
       "       [ 1.06772115,  0.57440659, -0.16175199,  0.16341579, -0.08689451]])"
      ]
     },
     "execution_count": 10,
     "metadata": {},
     "output_type": "execute_result"
    }
   ],
   "source": [
    "arr_rg = gen(pcg())\n",
    "arr_rg.normal(size = (5,5))\n"
   ]
  },
  {
   "cell_type": "markdown",
   "metadata": {},
   "source": [
    "arr_rg = gen(pcg(seed = 101))-> make sure that same value is generated after each run .\n",
    "arr_rg.normal(size = (5,5))"
   ]
  },
  {
   "cell_type": "code",
   "execution_count": 12,
   "metadata": {},
   "outputs": [
    {
     "data": {
      "text/plain": [
       "array([[-0.7901525 , -2.03462548,  0.60330175,  0.74429453, -0.3096868 ],\n",
       "       [ 0.36732137,  1.71039429,  1.06079784,  0.70763902,  0.68774939],\n",
       "       [-0.86356745,  0.96401673, -1.64846282, -0.33209181, -0.43729384],\n",
       "       [-1.72851871, -0.11033889,  1.64345508, -0.34012734, -1.20760334],\n",
       "       [-0.09105372,  0.85392432,  0.19321812, -0.00266572, -1.40922226]])"
      ]
     },
     "execution_count": 12,
     "metadata": {},
     "output_type": "execute_result"
    }
   ],
   "source": [
    "arr_rg = gen(pcg(seed = 101))\n",
    "arr_rg.normal(size = (5,5))"
   ]
  },
  {
   "cell_type": "markdown",
   "metadata": {},
   "source": [
    "TO generate INTEGER  value as random value we must give the range from low to high along with size.\n",
    "SEED may/ may not used as per use."
   ]
  },
  {
   "cell_type": "code",
   "execution_count": 13,
   "metadata": {},
   "outputs": [
    {
     "data": {
      "text/plain": [
       "array([[1787, 1636,  945, 1334],\n",
       "       [1339,  941,  839, 1939],\n",
       "       [ 909, 1680,  796,  490],\n",
       "       [1716, 1135, 1165, 1911]])"
      ]
     },
     "execution_count": 13,
     "metadata": {},
     "output_type": "execute_result"
    }
   ],
   "source": [
    "arr_rg.integers(low = 1, high=2000, size=(4,4))"
   ]
  },
  {
   "cell_type": "code",
   "execution_count": null,
   "metadata": {},
   "outputs": [
    {
     "data": {
      "text/plain": [
       "array([[0.52138574, 0.60384185, 0.4709418 , 0.20324794],\n",
       "       [0.52875903, 0.19103628, 0.2815456 , 0.75368155],\n",
       "       [0.55167178, 0.86372208, 0.80537222, 0.24837266],\n",
       "       [0.18985741, 0.98399558, 0.66999717, 0.28038283]])"
      ]
     },
     "execution_count": 15,
     "metadata": {},
     "output_type": "execute_result"
    }
   ],
   "source": [
    "arr_rg= gen(pcg (seed = 1000))\n",
    "arr_rg.random(size= (4,4))\n",
    "# random follow bell curve values"
   ]
  }
 ],
 "metadata": {
  "kernelspec": {
   "display_name": "Python 3",
   "language": "python",
   "name": "python3"
  },
  "language_info": {
   "codemirror_mode": {
    "name": "ipython",
    "version": 3
   },
   "file_extension": ".py",
   "mimetype": "text/x-python",
   "name": "python",
   "nbconvert_exporter": "python",
   "pygments_lexer": "ipython3",
   "version": "3.12.1"
  }
 },
 "nbformat": 4,
 "nbformat_minor": 2
}
